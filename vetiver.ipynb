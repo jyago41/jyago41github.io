{
  "cells": [
    {
      "cell_type": "raw",
      "metadata": {},
      "source": [
        "---\n",
        "title: \"Model\"\n",
        "format:\n",
        "  html:\n",
        "    code-fold: true\n",
        "---"
      ],
      "id": "32deb6ff"
    },
    {
      "cell_type": "code",
      "metadata": {},
      "source": [
        "from pandas import get_dummies\n",
        "import numpy as np\n",
        "from sklearn.linear_model import LinearRegression\n",
        "from sklearn import preprocessing"
      ],
      "id": "8a9c2274",
      "execution_count": null,
      "outputs": []
    },
    {
      "cell_type": "markdown",
      "metadata": {},
      "source": [
        "## Get Data\n"
      ],
      "id": "b2fcd21d"
    },
    {
      "cell_type": "code",
      "metadata": {},
      "source": [
        "import duckdb\n",
        "con = duckdb.connect('my-db.duckdb')\n",
        "df = con.execute(\"SELECT * FROM penguins\").fetchdf().dropna()\n",
        "con.close()\n",
        "\n",
        "df.head(3)"
      ],
      "id": "dbe0f995",
      "execution_count": null,
      "outputs": []
    },
    {
      "cell_type": "markdown",
      "metadata": {},
      "source": [
        "## Define Model and Fit\n"
      ],
      "id": "1db9f571"
    },
    {
      "cell_type": "code",
      "metadata": {},
      "source": [
        "X = get_dummies(df[['bill_length_mm', 'species', 'sex']], drop_first = True)\n",
        "y = df['body_mass_g']\n",
        "\n",
        "model = LinearRegression().fit(X, y)"
      ],
      "id": "150952e0",
      "execution_count": null,
      "outputs": []
    },
    {
      "cell_type": "markdown",
      "metadata": {},
      "source": [
        "## Get some information\n"
      ],
      "id": "371f28c8"
    },
    {
      "cell_type": "code",
      "metadata": {},
      "source": [
        "print(f\"R^2 {model.score(X,y)}\")\n",
        "print(f\"Intercept {model.intercept_}\")\n",
        "print(f\"Columns {X.columns}\")\n",
        "print(f\"Coefficients {model.coef_}\")"
      ],
      "id": "ca0fb355",
      "execution_count": null,
      "outputs": []
    },
    {
      "cell_type": "markdown",
      "metadata": {},
      "source": [
        "## Turn into Vetiver Model\n"
      ],
      "id": "53b92bb6"
    },
    {
      "cell_type": "code",
      "metadata": {},
      "source": [
        "from vetiver import VetiverModel\n",
        "v = VetiverModel(model, model_name='penguin_model', prototype_data=X)"
      ],
      "id": "923c0e1f",
      "execution_count": null,
      "outputs": []
    },
    {
      "cell_type": "markdown",
      "metadata": {},
      "source": [
        "## Save to Board\n"
      ],
      "id": "508dbcc8"
    },
    {
      "cell_type": "code",
      "metadata": {},
      "source": [
        "from pins import board_folder\n",
        "from vetiver import vetiver_pin_write\n",
        "\n",
        "model_board = board_folder(\"data/model\", allow_pickle_read = True)\n",
        "vetiver_pin_write(model_board, v)"
      ],
      "id": "bfd37461",
      "execution_count": null,
      "outputs": []
    },
    {
      "cell_type": "markdown",
      "metadata": {},
      "source": [
        "## Turn model into API\n"
      ],
      "id": "1d526957"
    },
    {
      "cell_type": "code",
      "metadata": {},
      "source": [
        "from vetiver import VetiverAPI\n",
        "app = VetiverAPI(v, check_prototype = True)\n",
        "\n",
        "if __name__ == \"__main__\":\n",
        "  app.run(port=8080)"
      ],
      "id": "9b40c470",
      "execution_count": null,
      "outputs": []
    },
    {
      "cell_type": "code",
      "metadata": {},
      "source": [
        "from vetiver import prepare_docker\n",
        "prepare_docker(model_board, 'penguin_model')"
      ],
      "id": "25f94b46",
      "execution_count": null,
      "outputs": []
    }
  ],
  "metadata": {
    "kernelspec": {
      "display_name": "Python 3",
      "language": "python",
      "name": "python3"
    }
  },
  "nbformat": 4,
  "nbformat_minor": 5
}